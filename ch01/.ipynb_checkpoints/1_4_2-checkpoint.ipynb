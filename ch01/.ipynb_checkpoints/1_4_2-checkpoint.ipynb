{
 "cells": [
  {
   "cell_type": "markdown",
   "id": "668c7d17-f6da-4e9f-b58d-2c260d5deaa9",
   "metadata": {},
   "source": [
    "# ch01 헬로 파이썬"
   ]
  },
  {
   "cell_type": "markdown",
   "id": "f7032e61-4007-4965-906b-05591b983302",
   "metadata": {},
   "source": [
    "## 1.4 파이썬 스크립트 파일"
   ]
  },
  {
   "cell_type": "markdown",
   "id": "c19d72f1-8a59-4882-b994-205809a7f9e0",
   "metadata": {},
   "source": [
    "### 1.4.2 클래스"
   ]
  },
  {
   "cell_type": "markdown",
   "id": "c90f6ea8-68be-4fd2-b74c-3fddc3c9c54a",
   "metadata": {},
   "source": [
    "개발자가  직접 클래스를 정의하면 독자적인 자료형을 만들 수 있다.</br> 또한 클래스에는 그 클래스만의 전용 함수(method)와 속성(Attribute)를 정의 할 수도 있다."
   ]
  },
  {
   "cell_type": "markdown",
   "id": "7349db3e-fc17-4430-b6f9-23efa29e4661",
   "metadata": {},
   "source": [
    "파이썬에서는 class라는 키워드를 사용하여, 클래스를 정의한다. 클래스의 구조는 다음과 같다."
   ]
  },
  {
   "cell_type": "markdown",
   "id": "3030d7c6-1d16-4253-b96e-879191971900",
   "metadata": {},
   "source": [
    "```python\n",
    "\n",
    "class 클래스 이름 : \n",
    "    def __init__(self, 인수, ...):     #생성자\n",
    "        ...\n",
    "    def 메서드이름1(self,인수, 인수,...):    #메서드1\n",
    "        ...\n",
    "    def 메서드이름2(self, 인수, 인수,...):   #메서드2\n",
    "        ...\n",
    "```"
   ]
  },
  {
   "cell_type": "markdown",
   "id": "e8371652-007e-45a1-a0ca-563e4766b0d8",
   "metadata": {},
   "source": [
    "클래스의 정의에는 __init__ 이라는 특별한 메서드가 있는데, 클래스를 초기화 하는 방법을 정의한다.</br>\n",
    "이 초기화용 메서드를 **constructor(생성자)** 라고도 하며, 클래스의 인스턴스가 만들어질 때 한번만 불린다.</br>\n",
    "또, 파이썬에는 메서드의 첫 번째 인수로 자신(자신의 인스턴스)을 나타내는 self를 명시적으로 쓰는것이 특징이다.</br>\n",
    "다음은 class의 예시이다."
   ]
  },
  {
   "cell_type": "code",
   "execution_count": 2,
   "id": "b29802ac-3962-465c-a801-cdd010baa4fb",
   "metadata": {},
   "outputs": [
    {
     "name": "stdout",
     "output_type": "stream",
     "text": [
      "Initialized!\n",
      "Hello David !\n",
      "Good-bye David !\n"
     ]
    }
   ],
   "source": [
    "class Man:\n",
    "    def __init__(self,name):\n",
    "        self.name = name\n",
    "        print(\"Initialized!\")\n",
    "    def hello(self):\n",
    "        print(\"Hello \" + self.name + \" !\")\n",
    "    def goodbye(self):\n",
    "        print(\"Good-bye \"+self.name + \" !\")\n",
    "\n",
    "\n",
    "m = Man(\"David\")    #생성자 호출\n",
    "m.hello() #메서드 호출\n",
    "m.goodbye() #메서드 호출"
   ]
  },
  {
   "cell_type": "markdown",
   "id": "d1a1aa69-e380-49bc-baf2-b4e2c8c7172f",
   "metadata": {},
   "source": [
    "여기에서는 Man이라는 새로운 클래스를 정의했다.</br>\n",
    "그리고 Man클래스에서 m이라는 인스턴스(객체)를 생성했다.</br>\n",
    "Man의 생성자(초기화 메서드는) name이라는 인수를 받고, 그 인수로 인스턴스 변수인 self.name을 초기화한다.</br>\n",
    "**인스턴스 변수**는 인스턴스별로 저장되는 변수이다.</br>\n",
    "파이썬에서는 self.name처럼 self 다음에 속성 이름을 써서, 인스턴스 변수를 작성하거나 접근할 수 있다."
   ]
  },
  {
   "cell_type": "markdown",
   "id": "ab67e801-89ce-4e4e-96ee-4e484dfe27f6",
   "metadata": {},
   "source": [
    "## 1.5 넘파이"
   ]
  },
  {
   "cell_type": "markdown",
   "id": "2533c380-b3e2-437f-93ba-1b65d6d1fba9",
   "metadata": {},
   "source": [
    "딥러닝을 구현하다 보면 배열이나 행렬 계산이 많이 등장한다.</br>\n",
    "**넘파이**의 배열 클래스인 numpy.array에는 편리한 메서드가 많이 준비되어 있어,</br>\n",
    "딥러닝을 구현할 때 이 메서드들을 이용한다."
   ]
  },
  {
   "cell_type": "markdown",
   "id": "c4e890da-76c2-4dad-851c-1c2249d2fbc9",
   "metadata": {},
   "source": [
    "### 1.5.1 Numpy import"
   ]
  },
  {
   "cell_type": "markdown",
   "id": "3b1ccad5-733e-4f02-8996-3260a7e3a5c1",
   "metadata": {},
   "source": [
    "넘파이는 외부 라이브러리 이다. 그래서 우선 넘파이 라이브러리를 쓸 수 있도록  가져와야(import)한다."
   ]
  },
  {
   "cell_type": "code",
   "execution_count": 4,
   "id": "89d622b7-7279-4659-afeb-352e1f6029d4",
   "metadata": {},
   "outputs": [],
   "source": [
    "import numpy as np"
   ]
  },
  {
   "cell_type": "markdown",
   "id": "32859dde-4459-4368-8a74-db00957caff2",
   "metadata": {},
   "source": [
    "### 1.5.2 넘파이 배열 생성하기"
   ]
  },
  {
   "cell_type": "markdown",
   "id": "72e6d536-0873-4334-8ac7-ed389940bd60",
   "metadata": {},
   "source": [
    "**넘파이 배열** 을 만들 때는 np.array() 메서드를 이용한다.</br>\n",
    "np.array()는 파이썬의 리스트를 인수로 받아 넘파이 라이브러리가 제공하는 특수한 형태의 배열(numpy.ndarray)를 반환한다."
   ]
  },
  {
   "cell_type": "code",
   "execution_count": 8,
   "id": "d5b16b3f-a369-4a9a-bfab-8753eb4e9be6",
   "metadata": {},
   "outputs": [
    {
     "name": "stdout",
     "output_type": "stream",
     "text": [
      "x: [1. 2. 3.]\n",
      "type(x): <class 'numpy.ndarray'>\n"
     ]
    }
   ],
   "source": [
    "x = np.array([1.0,2.0,3.0])   #list를 인수로 받아 numpy.ndarray를 반환\n",
    "print(\"x:\",x)\n",
    "print(\"type(x):\",type(x)) "
   ]
  },
  {
   "cell_type": "markdown",
   "id": "3b683903-feec-4783-9362-d83380fac84c",
   "metadata": {},
   "source": [
    "### 1.5.3 넘파이의 산술 연산\n"
   ]
  },
  {
   "cell_type": "markdown",
   "id": "50d4dd38-fb4e-4c52-af27-3c76bef2d14b",
   "metadata": {},
   "source": [
    "넘파이 배열로 산술 연산을 수행하는 예이다."
   ]
  },
  {
   "cell_type": "code",
   "execution_count": 10,
   "id": "76f3cc7e-0a67-40a9-a751-a0e58aba10c0",
   "metadata": {},
   "outputs": [],
   "source": [
    "x = np.array([1.0,2.0,3.0])\n",
    "y = np.array([2.0,4.0,6.0])"
   ]
  },
  {
   "cell_type": "code",
   "execution_count": 11,
   "id": "38ad5b20-8ce2-4b92-ace2-7cd63d625333",
   "metadata": {},
   "outputs": [
    {
     "data": {
      "text/plain": [
       "array([3., 6., 9.])"
      ]
     },
     "execution_count": 11,
     "metadata": {},
     "output_type": "execute_result"
    }
   ],
   "source": [
    "x+y"
   ]
  },
  {
   "cell_type": "code",
   "execution_count": 12,
   "id": "9f781ea8-4171-42e9-a545-59b52f33d915",
   "metadata": {},
   "outputs": [
    {
     "data": {
      "text/plain": [
       "array([-1., -2., -3.])"
      ]
     },
     "execution_count": 12,
     "metadata": {},
     "output_type": "execute_result"
    }
   ],
   "source": [
    "x-y"
   ]
  },
  {
   "cell_type": "code",
   "execution_count": 13,
   "id": "b7c67d46-cdbe-4555-87da-c752c4e5481e",
   "metadata": {},
   "outputs": [
    {
     "data": {
      "text/plain": [
       "array([ 2.,  8., 18.])"
      ]
     },
     "execution_count": 13,
     "metadata": {},
     "output_type": "execute_result"
    }
   ],
   "source": [
    "x*y   #행렬곱이 아닌 원소별 곱셈"
   ]
  },
  {
   "cell_type": "code",
   "execution_count": 14,
   "id": "e5a42a09-5a06-482f-8514-9e9f9302c08b",
   "metadata": {},
   "outputs": [
    {
     "data": {
      "text/plain": [
       "array([0.5, 0.5, 0.5])"
      ]
     },
     "execution_count": 14,
     "metadata": {},
     "output_type": "execute_result"
    }
   ],
   "source": [
    "x/y"
   ]
  },
  {
   "cell_type": "markdown",
   "id": "7ecd18dc-b560-451e-9ef2-c66dc5d7954e",
   "metadata": {},
   "source": [
    "여기에서 주의할 점은 배열 x와 y의 원소 수가 같다는 것이다.</br>\n",
    "x와 y의 원소 수가 같다면 산술 연산은 각 원소에 대해서 행해진다.</br>\n",
    "원소 수가 다르면 오류가 발생한다.</br>\n",
    "'원소별' 이라는 말은 element-wise라고 한다.</br>\n",
    "'원소별 곱셈'은 element-wise product라고 한다."
   ]
  },
  {
   "cell_type": "markdown",
   "id": "b4cb1023-243b-49fb-aecb-32e9d7346fd1",
   "metadata": {},
   "source": [
    "넘파이 배열은 원소별 계산뿐 아니라 넘파이 배열과 수치 하나(스칼라 값)의 조합으로 된 산술 연산도 수행할 수 있다.</br>\n",
    "이 경우 스칼라값과의 계산이 넘파이 배열의 원소별로 한 번씩 수행된다. 이 기능을 **브로드캐스트** 라고 한다."
   ]
  },
  {
   "cell_type": "code",
   "execution_count": 15,
   "id": "e895a073-bb2a-40f3-a065-9e3f15a285d1",
   "metadata": {},
   "outputs": [
    {
     "data": {
      "text/plain": [
       "array([0.5, 1. , 1.5])"
      ]
     },
     "execution_count": 15,
     "metadata": {},
     "output_type": "execute_result"
    }
   ],
   "source": [
    "x = np.array([1.0,2.0,3.0])\n",
    "x/2.0"
   ]
  },
  {
   "cell_type": "code",
   "execution_count": null,
   "id": "40481007-77d0-4c29-8191-879aa674b9ec",
   "metadata": {},
   "outputs": [],
   "source": []
  }
 ],
 "metadata": {
  "kernelspec": {
   "display_name": "Python 3 (ipykernel)",
   "language": "python",
   "name": "python3"
  },
  "language_info": {
   "codemirror_mode": {
    "name": "ipython",
    "version": 3
   },
   "file_extension": ".py",
   "mimetype": "text/x-python",
   "name": "python",
   "nbconvert_exporter": "python",
   "pygments_lexer": "ipython3",
   "version": "3.9.0"
  }
 },
 "nbformat": 4,
 "nbformat_minor": 5
}
